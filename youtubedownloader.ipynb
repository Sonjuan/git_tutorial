{
  "nbformat": 4,
  "nbformat_minor": 0,
  "metadata": {
    "colab": {
      "name": "youtubedownloader.ipynb",
      "provenance": [],
      "toc_visible": true,
      "authorship_tag": "ABX9TyNBtgRl8MiKVwAcRluMhuna",
      "include_colab_link": true
    },
    "kernelspec": {
      "name": "python3",
      "display_name": "Python 3"
    },
    "accelerator": "GPU"
  },
  "cells": [
    {
      "cell_type": "markdown",
      "metadata": {
        "id": "view-in-github",
        "colab_type": "text"
      },
      "source": [
        "<a href=\"https://colab.research.google.com/github/Sonjuan/git_tutorial/blob/master/youtubedownloader.ipynb\" target=\"_parent\"><img src=\"https://colab.research.google.com/assets/colab-badge.svg\" alt=\"Open In Colab\"/></a>"
      ]
    },
    {
      "cell_type": "code",
      "metadata": {
        "id": "sVb0TJIUUNUh",
        "colab_type": "code",
        "colab": {
          "base_uri": "https://localhost:8080/",
          "height": 131
        },
        "outputId": "82ffcc33-73ba-4d41-9057-62b186f0b6b4"
      },
      "source": [
        "pip install --upgrade youtube-dl"
      ],
      "execution_count": 10,
      "outputs": [
        {
          "output_type": "stream",
          "text": [
            "Collecting youtube-dl\n",
            "\u001b[?25l  Downloading https://files.pythonhosted.org/packages/05/d4/64dfe51be0fae772e86be3c83d82ec22d59aa8521d8834e10355bf60f9f5/youtube_dl-2020.1.24-py2.py3-none-any.whl (1.8MB)\n",
            "\r\u001b[K     |▏                               | 10kB 29.4MB/s eta 0:00:01\r\u001b[K     |▍                               | 20kB 38.3MB/s eta 0:00:01\r\u001b[K     |▌                               | 30kB 39.4MB/s eta 0:00:01\r\u001b[K     |▊                               | 40kB 40.6MB/s eta 0:00:01\r\u001b[K     |█                               | 51kB 42.6MB/s eta 0:00:01\r\u001b[K     |█                               | 61kB 45.9MB/s eta 0:00:01\r\u001b[K     |█▎                              | 71kB 44.7MB/s eta 0:00:01\r\u001b[K     |█▌                              | 81kB 40.4MB/s eta 0:00:01\r\u001b[K     |█▋                              | 92kB 42.2MB/s eta 0:00:01\r\u001b[K     |█▉                              | 102kB 39.0MB/s eta 0:00:01\r\u001b[K     |██                              | 112kB 39.0MB/s eta 0:00:01\r\u001b[K     |██▏                             | 122kB 39.0MB/s eta 0:00:01\r\u001b[K     |██▍                             | 133kB 39.0MB/s eta 0:00:01\r\u001b[K     |██▌                             | 143kB 39.0MB/s eta 0:00:01\r\u001b[K     |██▊                             | 153kB 39.0MB/s eta 0:00:01\r\u001b[K     |███                             | 163kB 39.0MB/s eta 0:00:01\r\u001b[K     |███                             | 174kB 39.0MB/s eta 0:00:01\r\u001b[K     |███▎                            | 184kB 39.0MB/s eta 0:00:01\r\u001b[K     |███▍                            | 194kB 39.0MB/s eta 0:00:01\r\u001b[K     |███▋                            | 204kB 39.0MB/s eta 0:00:01\r\u001b[K     |███▉                            | 215kB 39.0MB/s eta 0:00:01\r\u001b[K     |████                            | 225kB 39.0MB/s eta 0:00:01\r\u001b[K     |████▏                           | 235kB 39.0MB/s eta 0:00:01\r\u001b[K     |████▍                           | 245kB 39.0MB/s eta 0:00:01\r\u001b[K     |████▌                           | 256kB 39.0MB/s eta 0:00:01\r\u001b[K     |████▊                           | 266kB 39.0MB/s eta 0:00:01\r\u001b[K     |████▉                           | 276kB 39.0MB/s eta 0:00:01\r\u001b[K     |█████                           | 286kB 39.0MB/s eta 0:00:01\r\u001b[K     |█████▎                          | 296kB 39.0MB/s eta 0:00:01\r\u001b[K     |█████▍                          | 307kB 39.0MB/s eta 0:00:01\r\u001b[K     |█████▋                          | 317kB 39.0MB/s eta 0:00:01\r\u001b[K     |█████▉                          | 327kB 39.0MB/s eta 0:00:01\r\u001b[K     |██████                          | 337kB 39.0MB/s eta 0:00:01\r\u001b[K     |██████▏                         | 348kB 39.0MB/s eta 0:00:01\r\u001b[K     |██████▎                         | 358kB 39.0MB/s eta 0:00:01\r\u001b[K     |██████▌                         | 368kB 39.0MB/s eta 0:00:01\r\u001b[K     |██████▊                         | 378kB 39.0MB/s eta 0:00:01\r\u001b[K     |██████▉                         | 389kB 39.0MB/s eta 0:00:01\r\u001b[K     |███████                         | 399kB 39.0MB/s eta 0:00:01\r\u001b[K     |███████▎                        | 409kB 39.0MB/s eta 0:00:01\r\u001b[K     |███████▍                        | 419kB 39.0MB/s eta 0:00:01\r\u001b[K     |███████▋                        | 430kB 39.0MB/s eta 0:00:01\r\u001b[K     |███████▊                        | 440kB 39.0MB/s eta 0:00:01\r\u001b[K     |████████                        | 450kB 39.0MB/s eta 0:00:01\r\u001b[K     |████████▏                       | 460kB 39.0MB/s eta 0:00:01\r\u001b[K     |████████▎                       | 471kB 39.0MB/s eta 0:00:01\r\u001b[K     |████████▌                       | 481kB 39.0MB/s eta 0:00:01\r\u001b[K     |████████▊                       | 491kB 39.0MB/s eta 0:00:01\r\u001b[K     |████████▉                       | 501kB 39.0MB/s eta 0:00:01\r\u001b[K     |█████████                       | 512kB 39.0MB/s eta 0:00:01\r\u001b[K     |█████████▎                      | 522kB 39.0MB/s eta 0:00:01\r\u001b[K     |█████████▍                      | 532kB 39.0MB/s eta 0:00:01\r\u001b[K     |█████████▋                      | 542kB 39.0MB/s eta 0:00:01\r\u001b[K     |█████████▊                      | 552kB 39.0MB/s eta 0:00:01\r\u001b[K     |██████████                      | 563kB 39.0MB/s eta 0:00:01\r\u001b[K     |██████████▏                     | 573kB 39.0MB/s eta 0:00:01\r\u001b[K     |██████████▎                     | 583kB 39.0MB/s eta 0:00:01\r\u001b[K     |██████████▌                     | 593kB 39.0MB/s eta 0:00:01\r\u001b[K     |██████████▊                     | 604kB 39.0MB/s eta 0:00:01\r\u001b[K     |██████████▉                     | 614kB 39.0MB/s eta 0:00:01\r\u001b[K     |███████████                     | 624kB 39.0MB/s eta 0:00:01\r\u001b[K     |███████████▏                    | 634kB 39.0MB/s eta 0:00:01\r\u001b[K     |███████████▍                    | 645kB 39.0MB/s eta 0:00:01\r\u001b[K     |███████████▋                    | 655kB 39.0MB/s eta 0:00:01\r\u001b[K     |███████████▊                    | 665kB 39.0MB/s eta 0:00:01\r\u001b[K     |████████████                    | 675kB 39.0MB/s eta 0:00:01\r\u001b[K     |████████████▏                   | 686kB 39.0MB/s eta 0:00:01\r\u001b[K     |████████████▎                   | 696kB 39.0MB/s eta 0:00:01\r\u001b[K     |████████████▌                   | 706kB 39.0MB/s eta 0:00:01\r\u001b[K     |████████████▋                   | 716kB 39.0MB/s eta 0:00:01\r\u001b[K     |████████████▉                   | 727kB 39.0MB/s eta 0:00:01\r\u001b[K     |█████████████                   | 737kB 39.0MB/s eta 0:00:01\r\u001b[K     |█████████████▏                  | 747kB 39.0MB/s eta 0:00:01\r\u001b[K     |█████████████▍                  | 757kB 39.0MB/s eta 0:00:01\r\u001b[K     |█████████████▋                  | 768kB 39.0MB/s eta 0:00:01\r\u001b[K     |█████████████▊                  | 778kB 39.0MB/s eta 0:00:01\r\u001b[K     |██████████████                  | 788kB 39.0MB/s eta 0:00:01\r\u001b[K     |██████████████                  | 798kB 39.0MB/s eta 0:00:01\r\u001b[K     |██████████████▎                 | 808kB 39.0MB/s eta 0:00:01\r\u001b[K     |██████████████▌                 | 819kB 39.0MB/s eta 0:00:01\r\u001b[K     |██████████████▋                 | 829kB 39.0MB/s eta 0:00:01\r\u001b[K     |██████████████▉                 | 839kB 39.0MB/s eta 0:00:01\r\u001b[K     |███████████████                 | 849kB 39.0MB/s eta 0:00:01\r\u001b[K     |███████████████▏                | 860kB 39.0MB/s eta 0:00:01\r\u001b[K     |███████████████▍                | 870kB 39.0MB/s eta 0:00:01\r\u001b[K     |███████████████▌                | 880kB 39.0MB/s eta 0:00:01\r\u001b[K     |███████████████▊                | 890kB 39.0MB/s eta 0:00:01\r\u001b[K     |████████████████                | 901kB 39.0MB/s eta 0:00:01\r\u001b[K     |████████████████                | 911kB 39.0MB/s eta 0:00:01\r\u001b[K     |████████████████▎               | 921kB 39.0MB/s eta 0:00:01\r\u001b[K     |████████████████▌               | 931kB 39.0MB/s eta 0:00:01\r\u001b[K     |████████████████▋               | 942kB 39.0MB/s eta 0:00:01\r\u001b[K     |████████████████▉               | 952kB 39.0MB/s eta 0:00:01\r\u001b[K     |█████████████████               | 962kB 39.0MB/s eta 0:00:01\r\u001b[K     |█████████████████▏              | 972kB 39.0MB/s eta 0:00:01\r\u001b[K     |█████████████████▍              | 983kB 39.0MB/s eta 0:00:01\r\u001b[K     |█████████████████▌              | 993kB 39.0MB/s eta 0:00:01\r\u001b[K     |█████████████████▊              | 1.0MB 39.0MB/s eta 0:00:01\r\u001b[K     |██████████████████              | 1.0MB 39.0MB/s eta 0:00:01\r\u001b[K     |██████████████████              | 1.0MB 39.0MB/s eta 0:00:01\r\u001b[K     |██████████████████▎             | 1.0MB 39.0MB/s eta 0:00:01\r\u001b[K     |██████████████████▌             | 1.0MB 39.0MB/s eta 0:00:01\r\u001b[K     |██████████████████▋             | 1.1MB 39.0MB/s eta 0:00:01\r\u001b[K     |██████████████████▉             | 1.1MB 39.0MB/s eta 0:00:01\r\u001b[K     |███████████████████             | 1.1MB 39.0MB/s eta 0:00:01\r\u001b[K     |███████████████████▏            | 1.1MB 39.0MB/s eta 0:00:01\r\u001b[K     |███████████████████▍            | 1.1MB 39.0MB/s eta 0:00:01\r\u001b[K     |███████████████████▌            | 1.1MB 39.0MB/s eta 0:00:01\r\u001b[K     |███████████████████▊            | 1.1MB 39.0MB/s eta 0:00:01\r\u001b[K     |████████████████████            | 1.1MB 39.0MB/s eta 0:00:01\r\u001b[K     |████████████████████            | 1.1MB 39.0MB/s eta 0:00:01\r\u001b[K     |████████████████████▎           | 1.1MB 39.0MB/s eta 0:00:01\r\u001b[K     |████████████████████▍           | 1.2MB 39.0MB/s eta 0:00:01\r\u001b[K     |████████████████████▋           | 1.2MB 39.0MB/s eta 0:00:01\r\u001b[K     |████████████████████▉           | 1.2MB 39.0MB/s eta 0:00:01\r\u001b[K     |█████████████████████           | 1.2MB 39.0MB/s eta 0:00:01\r\u001b[K     |█████████████████████▏          | 1.2MB 39.0MB/s eta 0:00:01\r\u001b[K     |█████████████████████▍          | 1.2MB 39.0MB/s eta 0:00:01\r\u001b[K     |█████████████████████▌          | 1.2MB 39.0MB/s eta 0:00:01\r\u001b[K     |█████████████████████▊          | 1.2MB 39.0MB/s eta 0:00:01\r\u001b[K     |█████████████████████▉          | 1.2MB 39.0MB/s eta 0:00:01\r\u001b[K     |██████████████████████          | 1.2MB 39.0MB/s eta 0:00:01\r\u001b[K     |██████████████████████▎         | 1.3MB 39.0MB/s eta 0:00:01\r\u001b[K     |██████████████████████▍         | 1.3MB 39.0MB/s eta 0:00:01\r\u001b[K     |██████████████████████▋         | 1.3MB 39.0MB/s eta 0:00:01\r\u001b[K     |██████████████████████▉         | 1.3MB 39.0MB/s eta 0:00:01\r\u001b[K     |███████████████████████         | 1.3MB 39.0MB/s eta 0:00:01\r\u001b[K     |███████████████████████▏        | 1.3MB 39.0MB/s eta 0:00:01\r\u001b[K     |███████████████████████▎        | 1.3MB 39.0MB/s eta 0:00:01\r\u001b[K     |███████████████████████▌        | 1.3MB 39.0MB/s eta 0:00:01\r\u001b[K     |███████████████████████▊        | 1.3MB 39.0MB/s eta 0:00:01\r\u001b[K     |███████████████████████▉        | 1.4MB 39.0MB/s eta 0:00:01\r\u001b[K     |████████████████████████        | 1.4MB 39.0MB/s eta 0:00:01\r\u001b[K     |████████████████████████▎       | 1.4MB 39.0MB/s eta 0:00:01\r\u001b[K     |████████████████████████▍       | 1.4MB 39.0MB/s eta 0:00:01\r\u001b[K     |████████████████████████▋       | 1.4MB 39.0MB/s eta 0:00:01\r\u001b[K     |████████████████████████▉       | 1.4MB 39.0MB/s eta 0:00:01\r\u001b[K     |█████████████████████████       | 1.4MB 39.0MB/s eta 0:00:01\r\u001b[K     |█████████████████████████▏      | 1.4MB 39.0MB/s eta 0:00:01\r\u001b[K     |█████████████████████████▎      | 1.4MB 39.0MB/s eta 0:00:01\r\u001b[K     |█████████████████████████▌      | 1.4MB 39.0MB/s eta 0:00:01\r\u001b[K     |█████████████████████████▊      | 1.5MB 39.0MB/s eta 0:00:01\r\u001b[K     |█████████████████████████▉      | 1.5MB 39.0MB/s eta 0:00:01\r\u001b[K     |██████████████████████████      | 1.5MB 39.0MB/s eta 0:00:01\r\u001b[K     |██████████████████████████▎     | 1.5MB 39.0MB/s eta 0:00:01\r\u001b[K     |██████████████████████████▍     | 1.5MB 39.0MB/s eta 0:00:01\r\u001b[K     |██████████████████████████▋     | 1.5MB 39.0MB/s eta 0:00:01\r\u001b[K     |██████████████████████████▊     | 1.5MB 39.0MB/s eta 0:00:01\r\u001b[K     |███████████████████████████     | 1.5MB 39.0MB/s eta 0:00:01\r\u001b[K     |███████████████████████████▏    | 1.5MB 39.0MB/s eta 0:00:01\r\u001b[K     |███████████████████████████▎    | 1.5MB 39.0MB/s eta 0:00:01\r\u001b[K     |███████████████████████████▌    | 1.6MB 39.0MB/s eta 0:00:01\r\u001b[K     |███████████████████████████▊    | 1.6MB 39.0MB/s eta 0:00:01\r\u001b[K     |███████████████████████████▉    | 1.6MB 39.0MB/s eta 0:00:01\r\u001b[K     |████████████████████████████    | 1.6MB 39.0MB/s eta 0:00:01\r\u001b[K     |████████████████████████████▏   | 1.6MB 39.0MB/s eta 0:00:01\r\u001b[K     |████████████████████████████▍   | 1.6MB 39.0MB/s eta 0:00:01\r\u001b[K     |████████████████████████████▋   | 1.6MB 39.0MB/s eta 0:00:01\r\u001b[K     |████████████████████████████▊   | 1.6MB 39.0MB/s eta 0:00:01\r\u001b[K     |█████████████████████████████   | 1.6MB 39.0MB/s eta 0:00:01\r\u001b[K     |█████████████████████████████▏  | 1.6MB 39.0MB/s eta 0:00:01\r\u001b[K     |█████████████████████████████▎  | 1.7MB 39.0MB/s eta 0:00:01\r\u001b[K     |█████████████████████████████▌  | 1.7MB 39.0MB/s eta 0:00:01\r\u001b[K     |█████████████████████████████▋  | 1.7MB 39.0MB/s eta 0:00:01\r\u001b[K     |█████████████████████████████▉  | 1.7MB 39.0MB/s eta 0:00:01\r\u001b[K     |██████████████████████████████  | 1.7MB 39.0MB/s eta 0:00:01\r\u001b[K     |██████████████████████████████▏ | 1.7MB 39.0MB/s eta 0:00:01\r\u001b[K     |██████████████████████████████▍ | 1.7MB 39.0MB/s eta 0:00:01\r\u001b[K     |██████████████████████████████▋ | 1.7MB 39.0MB/s eta 0:00:01\r\u001b[K     |██████████████████████████████▊ | 1.7MB 39.0MB/s eta 0:00:01\r\u001b[K     |███████████████████████████████ | 1.8MB 39.0MB/s eta 0:00:01\r\u001b[K     |███████████████████████████████ | 1.8MB 39.0MB/s eta 0:00:01\r\u001b[K     |███████████████████████████████▎| 1.8MB 39.0MB/s eta 0:00:01\r\u001b[K     |███████████████████████████████▌| 1.8MB 39.0MB/s eta 0:00:01\r\u001b[K     |███████████████████████████████▋| 1.8MB 39.0MB/s eta 0:00:01\r\u001b[K     |███████████████████████████████▉| 1.8MB 39.0MB/s eta 0:00:01\r\u001b[K     |████████████████████████████████| 1.8MB 39.0MB/s \n",
            "\u001b[?25hInstalling collected packages: youtube-dl\n",
            "Successfully installed youtube-dl-2020.1.24\n"
          ],
          "name": "stdout"
        }
      ]
    },
    {
      "cell_type": "code",
      "metadata": {
        "id": "ysQj2QGzURii",
        "colab_type": "code",
        "colab": {
          "base_uri": "https://localhost:8080/",
          "height": 223
        },
        "outputId": "cbebcdfc-9d31-4c84-b406-4fd5c817e22d"
      },
      "source": [
        "from __future__ import unicode_literals\n",
        "import youtube_dl\n",
        "\n",
        "ydl_opts = {}\n",
        "with youtube_dl.YoutubeDL(ydl_opts) as ydl:\n",
        "    ydl.download(['https://www.youtube.com/watch?v=UWIIPX_5rbM'])"
      ],
      "execution_count": 11,
      "outputs": [
        {
          "output_type": "stream",
          "text": [
            "[youtube] UWIIPX_5rbM: Downloading webpage\n",
            "[youtube] UWIIPX_5rbM: Downloading video info webpage\n",
            "[youtube] UWIIPX_5rbM: Downloading js player vflp5fPn0\n",
            "[youtube] UWIIPX_5rbM: Downloading js player vflp5fPn0\n",
            "[download] Destination: BADBADNOTGOOD - Time Moves Slow feat. Sam Herring-UWIIPX_5rbM.f248.webm\n",
            "[download] 100% of 16.53MiB in 00:00\n",
            "[download] Destination: BADBADNOTGOOD - Time Moves Slow feat. Sam Herring-UWIIPX_5rbM.f251.webm\n",
            "[download] 100% of 4.19MiB in 00:00\n",
            "[ffmpeg] Merging formats into \"BADBADNOTGOOD - Time Moves Slow feat. Sam Herring-UWIIPX_5rbM.webm\"\n",
            "Deleting original file BADBADNOTGOOD - Time Moves Slow feat. Sam Herring-UWIIPX_5rbM.f248.webm (pass -k to keep)\n",
            "Deleting original file BADBADNOTGOOD - Time Moves Slow feat. Sam Herring-UWIIPX_5rbM.f251.webm (pass -k to keep)\n"
          ],
          "name": "stdout"
        }
      ]
    },
    {
      "cell_type": "code",
      "metadata": {
        "id": "Ej7ssPqKU2Pt",
        "colab_type": "code",
        "colab": {
          "base_uri": "https://localhost:8080/",
          "height": 73
        },
        "outputId": "12523f51-f6e2-485c-cd4f-052a9ea59f6c"
      },
      "source": [
        "import os\n",
        "from moviepy.editor import *\n",
        "\n",
        "directory = \"/content/saved_folder\"\n",
        "video_filename = \"/content/BADBADNOTGOOD - Time Moves Slow feat. Sam Herring-UWIIPX_5rbM.webm\"\n",
        "new_filename = \"BADBADNOTGOOD - Time Moves Slow feat.mp3\"\n",
        "\n",
        "video = VideoFileClip(os.path.join(directory,video_filename)) \n",
        "video.audio.write_audiofile(os.path.join(directory,new_filename)) \n",
        "\n",
        "video.close()"
      ],
      "execution_count": 19,
      "outputs": [
        {
          "output_type": "stream",
          "text": [
            "[MoviePy] Writing audio in /content/saved_folder/BADBADNOTGOOD - Time Moves Slow feat.mp3\n"
          ],
          "name": "stdout"
        },
        {
          "output_type": "stream",
          "text": [
            "100%|██████████| 6043/6043 [00:10<00:00, 561.31it/s]"
          ],
          "name": "stderr"
        },
        {
          "output_type": "stream",
          "text": [
            "[MoviePy] Done.\n"
          ],
          "name": "stdout"
        },
        {
          "output_type": "stream",
          "text": [
            "\n"
          ],
          "name": "stderr"
        }
      ]
    }
  ]
}